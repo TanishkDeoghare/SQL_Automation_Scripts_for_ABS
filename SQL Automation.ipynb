{
    "metadata": {
        "kernelspec": {
            "name": "python3",
            "display_name": "Python 3",
            "language": "python"
        },
        "language_info": {
            "name": "python",
            "version": "3.8.10",
            "mimetype": "text/x-python",
            "codemirror_mode": {
                "name": "ipython",
                "version": 3
            },
            "pygments_lexer": "ipython3",
            "nbconvert_exporter": "python",
            "file_extension": ".py"
        }
    },
    "nbformat_minor": 2,
    "nbformat": 4,
    "cells": [
        {
            "cell_type": "code",
            "source": [
                "import pymssql\n",
                "\n",
                "server = ''\n",
                "database = 'Default'\n",
                "username = ''\n",
                "password = ''\n",
                "\n",
                "conn = pymssql.connect(server=server, database=database, user=username, password=password)\n",
                "\n",
                "# Now you can execute SQL queries using the `conn` object.\n",
                ""
            ],
            "metadata": {
                "azdata_cell_guid": "33ccd685-a2a0-4e72-880c-3d8b85ace0c4",
                "language": "python"
            },
            "outputs": [
                {
                    "traceback": [
                        "\u001b[1;31m---------------------------------------------------------------------------\u001b[0m",
                        "\u001b[1;31mMSSQLDatabaseException\u001b[0m                    Traceback (most recent call last)",
                        "File \u001b[1;32msrc\\\\pymssql\\\\_pymssql.pyx:650\u001b[0m, in \u001b[0;36mpymssql._pymssql.connect\u001b[1;34m()\u001b[0m\n",
                        "File \u001b[1;32msrc\\\\pymssql\\\\_mssql.pyx:2155\u001b[0m, in \u001b[0;36mpymssql._mssql.connect\u001b[1;34m()\u001b[0m\n",
                        "File \u001b[1;32msrc\\\\pymssql\\\\_mssql.pyx:712\u001b[0m, in \u001b[0;36mpymssql._mssql.MSSQLConnection.__init__\u001b[1;34m()\u001b[0m\n",
                        "File \u001b[1;32msrc\\\\pymssql\\\\_mssql.pyx:1881\u001b[0m, in \u001b[0;36mpymssql._mssql.maybe_raise_MSSQLDatabaseException\u001b[1;34m()\u001b[0m\n",
                        "File \u001b[1;32msrc\\\\pymssql\\\\_mssql.pyx:1898\u001b[0m, in \u001b[0;36mpymssql._mssql.raise_MSSQLDatabaseException\u001b[1;34m()\u001b[0m\n",
                        "\u001b[1;31mMSSQLDatabaseException\u001b[0m: (18456, b'DB-Lib error message 20018, severity 14:\\nGeneral SQL Server error: Check messages from the SQL Server\\nDB-Lib error message 20002, severity 9:\\nAdaptive Server connection failed (aocaanalytics-az.f26d17a2df92.database.windows.net)\\nDB-Lib error message 20002, severity 9:\\nAdaptive Server connection failed (aocaanalytics-az.f26d17a2df92.database.windows.net)\\n')",
                        "\nDuring handling of the above exception, another exception occurred:\n",
                        "\u001b[1;31mOperationalError\u001b[0m                          Traceback (most recent call last)",
                        "Cell \u001b[1;32mIn[6], line 8\u001b[0m\n\u001b[0;32m      5\u001b[0m username \u001b[38;5;241m=\u001b[39m \u001b[38;5;124m'\u001b[39m\u001b[38;5;124mtanishk.deoghare@angeloakcapital.com\u001b[39m\u001b[38;5;124m'\u001b[39m\n\u001b[0;32m      6\u001b[0m password \u001b[38;5;241m=\u001b[39m \u001b[38;5;124m'\u001b[39m\u001b[38;5;124mUpsidedown123!\u001b[39m\u001b[38;5;124m'\u001b[39m\n\u001b[1;32m----> 8\u001b[0m conn \u001b[38;5;241m=\u001b[39m \u001b[43mpymssql\u001b[49m\u001b[38;5;241;43m.\u001b[39;49m\u001b[43mconnect\u001b[49m\u001b[43m(\u001b[49m\u001b[43mserver\u001b[49m\u001b[38;5;241;43m=\u001b[39;49m\u001b[43mserver\u001b[49m\u001b[43m,\u001b[49m\u001b[43m \u001b[49m\u001b[43mdatabase\u001b[49m\u001b[38;5;241;43m=\u001b[39;49m\u001b[43mdatabase\u001b[49m\u001b[43m,\u001b[49m\u001b[43m \u001b[49m\u001b[43muser\u001b[49m\u001b[38;5;241;43m=\u001b[39;49m\u001b[43musername\u001b[49m\u001b[43m,\u001b[49m\u001b[43m \u001b[49m\u001b[43mpassword\u001b[49m\u001b[38;5;241;43m=\u001b[39;49m\u001b[43mpassword\u001b[49m\u001b[43m)\u001b[49m\n\u001b[0;32m     10\u001b[0m \u001b[38;5;66;03m# Now you can execute SQL queries using the `conn` object.\u001b[39;00m\n",
                        "File \u001b[1;32msrc\\\\pymssql\\\\_pymssql.pyx:659\u001b[0m, in \u001b[0;36mpymssql._pymssql.connect\u001b[1;34m()\u001b[0m\n",
                        "\u001b[1;31mOperationalError\u001b[0m: (18456, b'DB-Lib error message 20018, severity 14:\\nGeneral SQL Server error: Check messages from the SQL Server\\nDB-Lib error message 20002, severity 9:\\nAdaptive Server connection failed (aocaanalytics-az.f26d17a2df92.database.windows.net)\\nDB-Lib error message 20002, severity 9:\\nAdaptive Server connection failed (aocaanalytics-az.f26d17a2df92.database.windows.net)\\n')"
                    ],
                    "ename": "OperationalError",
                    "evalue": "(18456, b'DB-Lib error message 20018, severity 14:\\nGeneral SQL Server error: Check messages from the SQL Server\\nDB-Lib error message 20002, severity 9:\\nAdaptive Server connection failed (aocaanalytics-az.f26d17a2df92.database.windows.net)\\nDB-Lib error message 20002, severity 9:\\nAdaptive Server connection failed (aocaanalytics-az.f26d17a2df92.database.windows.net)\\n')",
                    "output_type": "error"
                }
            ],
            "execution_count": 6
        },
        {
            "cell_type": "code",
            "source": [
                "import pyodbc\r\n",
                "\r\n",
                "server = ''\r\n",
                "database = 'Default'\r\n",
                "username = ''\r\n",
                "password = ''\r\n",
                "\r\n",
                "connection_string = f'\r\n",
                "\r\n",
                "# Now you can execute SQL queries using the `conn` object.\r\n",
                ""
            ],
            "metadata": {
                "azdata_cell_guid": "434665ad-c6d9-4f4f-ace9-60aa3f319641",
                "language": "python"
            },
            "outputs": [
                {
                    "traceback": [
                        "\u001b[1;31m---------------------------------------------------------------------------\u001b[0m",
                        "\u001b[1;31mInterfaceError\u001b[0m                            Traceback (most recent call last)",
                        "Cell \u001b[1;32mIn[9], line 9\u001b[0m\n\u001b[0;32m      6\u001b[0m password \u001b[38;5;241m=\u001b[39m \u001b[38;5;124m'\u001b[39m\u001b[38;5;124mUpsidedown123!\u001b[39m\u001b[38;5;124m'\u001b[39m\n\u001b[0;32m      8\u001b[0m connection_string \u001b[38;5;241m=\u001b[39m \u001b[38;5;124mf\u001b[39m\u001b[38;5;124m'\u001b[39m\u001b[38;5;124mDRIVER=\u001b[39m\u001b[38;5;130;01m{{\u001b[39;00m\u001b[38;5;124mODBC Driver 17 for SQL Server\u001b[39m\u001b[38;5;130;01m}}\u001b[39;00m\u001b[38;5;124m;SERVER=\u001b[39m\u001b[38;5;132;01m{\u001b[39;00mserver\u001b[38;5;132;01m}\u001b[39;00m\u001b[38;5;124m;DATABASE=\u001b[39m\u001b[38;5;132;01m{\u001b[39;00mdatabase\u001b[38;5;132;01m}\u001b[39;00m\u001b[38;5;124m;UID=\u001b[39m\u001b[38;5;132;01m{\u001b[39;00musername\u001b[38;5;132;01m}\u001b[39;00m\u001b[38;5;124m;PWD=\u001b[39m\u001b[38;5;132;01m{\u001b[39;00mpassword\u001b[38;5;132;01m}\u001b[39;00m\u001b[38;5;124m'\u001b[39m\n\u001b[1;32m----> 9\u001b[0m conn \u001b[38;5;241m=\u001b[39m \u001b[43mpyodbc\u001b[49m\u001b[38;5;241;43m.\u001b[39;49m\u001b[43mconnect\u001b[49m\u001b[43m(\u001b[49m\u001b[43mconnection_string\u001b[49m\u001b[43m)\u001b[49m\n\u001b[0;32m     11\u001b[0m \u001b[38;5;66;03m# Now you can execute SQL queries using the `conn` object.\u001b[39;00m\n",
                        "\u001b[1;31mInterfaceError\u001b[0m: ('28000', \"[28000] [Microsoft][ODBC Driver 17 for SQL Server][SQL Server]Login failed for user 'tanishk.deoghare'. (18456) (SQLDriverConnect); [28000] [Microsoft][ODBC Driver 17 for SQL Server][SQL Server]Login failed for user 'tanishk.deoghare'. (18456)\")"
                    ],
                    "ename": "InterfaceError",
                    "evalue": "('28000', \"[28000] [Microsoft][ODBC Driver 17 for SQL Server][SQL Server]Login failed for user 'tanishk.deoghare'. (18456) (SQLDriverConnect); [28000] [Microsoft][ODBC Driver 17 for SQL Server][SQL Server]Login failed for user 'tanishk.deoghare'. (18456)\")",
                    "output_type": "error"
                }
            ],
            "execution_count": 9
        },
        {
            "cell_type": "code",
            "source": [
                "import papermill as pm \r\n",
                "pm.execute_notebook('')"
            ],
            "metadata": {
                "language": "python",
                "azdata_cell_guid": "5579dbf9-ec7b-4b2a-ac53-b6ef892ff91d"
            },
            "outputs": [
                {
                    "traceback": [
                        "\u001b[1;31m---------------------------------------------------------------------------\u001b[0m",
                        "\u001b[1;31mTypeError\u001b[0m                                 Traceback (most recent call last)",
                        "Cell \u001b[1;32mIn[2], line 2\u001b[0m\n\u001b[0;32m      1\u001b[0m \u001b[38;5;28;01mimport\u001b[39;00m \u001b[38;5;21;01mpapermill\u001b[39;00m \u001b[38;5;28;01mas\u001b[39;00m \u001b[38;5;21;01mpm\u001b[39;00m \n\u001b[1;32m----> 2\u001b[0m \u001b[43mpm\u001b[49m\u001b[38;5;241;43m.\u001b[39;49m\u001b[43mexecute_notebook\u001b[49m\u001b[43m(\u001b[49m\u001b[38;5;124;43m'\u001b[39;49m\u001b[38;5;124;43mC:/Users/tanishk.deoghare/OneDrive - Angel Oak Capital Advisors/Desktop/Friday Investor Presentation Python Automation Script/Rating Total Return V2 1.ipynb\u001b[39;49m\u001b[38;5;124;43m'\u001b[39;49m\u001b[43m)\u001b[49m\n",
                        "\u001b[1;31mTypeError\u001b[0m: execute_notebook() missing 1 required positional argument: 'output_path'"
                    ],
                    "ename": "TypeError",
                    "evalue": "execute_notebook() missing 1 required positional argument: 'output_path'",
                    "output_type": "error"
                }
            ],
            "execution_count": 2
        }
    ]
}
